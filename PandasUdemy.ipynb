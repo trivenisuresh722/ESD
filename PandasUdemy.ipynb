{
  "nbformat": 4,
  "nbformat_minor": 0,
  "metadata": {
    "colab": {
      "name": "PandasUdemy.ipynb",
      "provenance": [],
      "authorship_tag": "ABX9TyN5Qfa8Pj82sQWXf30r+rRe",
      "include_colab_link": true
    },
    "kernelspec": {
      "name": "python3",
      "display_name": "Python 3"
    },
    "language_info": {
      "name": "python"
    }
  },
  "cells": [
    {
      "cell_type": "markdown",
      "metadata": {
        "id": "view-in-github",
        "colab_type": "text"
      },
      "source": [
        "<a href=\"https://colab.research.google.com/github/trivenisuresh722/ESD/blob/main/PandasUdemy.ipynb\" target=\"_parent\"><img src=\"https://colab.research.google.com/assets/colab-badge.svg\" alt=\"Open In Colab\"/></a>"
      ]
    },
    {
      "cell_type": "code",
      "execution_count": 2,
      "metadata": {
        "id": "KMCqcvwQ63Dr"
      },
      "outputs": [],
      "source": [
        "##Pandas--> Series, Dataframe, Panel\n",
        "##Series--> One dimentional Labelled array\n",
        "##Dataframe--> Combination of one or more series"
      ]
    },
    {
      "cell_type": "code",
      "source": [
        "import pandas as pd"
      ],
      "metadata": {
        "id": "hJB5Qica7kxE"
      },
      "execution_count": 3,
      "outputs": []
    },
    {
      "cell_type": "code",
      "source": [
        "##numpy array,dict, scalar value or constant"
      ],
      "metadata": {
        "id": "HvDTOj3f7zsL"
      },
      "execution_count": 4,
      "outputs": []
    },
    {
      "cell_type": "code",
      "source": [
        "import numpy as np\n",
        "x=np.array([\"a\",\"b\",\"c\",\"d\"])"
      ],
      "metadata": {
        "id": "2SEWAhia8CEm"
      },
      "execution_count": 5,
      "outputs": []
    },
    {
      "cell_type": "code",
      "source": [
        "type(x)"
      ],
      "metadata": {
        "colab": {
          "base_uri": "https://localhost:8080/"
        },
        "id": "DeFyN_7I8OV6",
        "outputId": "9edb30e5-422e-445b-ad47-624783e3b3bb"
      },
      "execution_count": 6,
      "outputs": [
        {
          "output_type": "execute_result",
          "data": {
            "text/plain": [
              "numpy.ndarray"
            ]
          },
          "metadata": {},
          "execution_count": 6
        }
      ]
    },
    {
      "cell_type": "code",
      "source": [
        "ser=pd.Series(x)"
      ],
      "metadata": {
        "id": "a4Ce0dh08grX"
      },
      "execution_count": 7,
      "outputs": []
    },
    {
      "cell_type": "code",
      "source": [
        "ser"
      ],
      "metadata": {
        "colab": {
          "base_uri": "https://localhost:8080/"
        },
        "id": "mm59R-5g8zFw",
        "outputId": "180bf986-ddbe-4d3e-9715-3510dde56eb5"
      },
      "execution_count": 8,
      "outputs": [
        {
          "output_type": "execute_result",
          "data": {
            "text/plain": [
              "0    a\n",
              "1    b\n",
              "2    c\n",
              "3    d\n",
              "dtype: object"
            ]
          },
          "metadata": {},
          "execution_count": 8
        }
      ]
    },
    {
      "cell_type": "code",
      "source": [
        "pd.Series(x,index=[200,201,202,203])"
      ],
      "metadata": {
        "colab": {
          "base_uri": "https://localhost:8080/"
        },
        "id": "jJcqMREI81DH",
        "outputId": "f7eedc45-e4b6-47e0-c789-153935ab0e04"
      },
      "execution_count": 9,
      "outputs": [
        {
          "output_type": "execute_result",
          "data": {
            "text/plain": [
              "200    a\n",
              "201    b\n",
              "202    c\n",
              "203    d\n",
              "dtype: object"
            ]
          },
          "metadata": {},
          "execution_count": 9
        }
      ]
    },
    {
      "cell_type": "code",
      "source": [
        "series=pd.Series(x,index=[200,201,202,203],dtype=str,name='Alphabates')"
      ],
      "metadata": {
        "id": "0lZG0dv_9HSR"
      },
      "execution_count": 23,
      "outputs": []
    },
    {
      "cell_type": "code",
      "source": [
        "squares={1:1,2:4,3:9,4:16}"
      ],
      "metadata": {
        "id": "_Ur7a9TzjTx_"
      },
      "execution_count": 13,
      "outputs": []
    },
    {
      "cell_type": "code",
      "source": [
        "squares"
      ],
      "metadata": {
        "colab": {
          "base_uri": "https://localhost:8080/"
        },
        "id": "zR1XJN6IjUxf",
        "outputId": "4f77328f-9c6f-45c5-b420-9d0da65fe942"
      },
      "execution_count": 14,
      "outputs": [
        {
          "output_type": "execute_result",
          "data": {
            "text/plain": [
              "{1: 1, 2: 4, 3: 9, 4: 16}"
            ]
          },
          "metadata": {},
          "execution_count": 14
        }
      ]
    },
    {
      "cell_type": "code",
      "source": [
        "pd.Series(squares,index=[100,101,200,202])"
      ],
      "metadata": {
        "colab": {
          "base_uri": "https://localhost:8080/"
        },
        "id": "4co34q17ja83",
        "outputId": "07b11c84-b0c9-452e-96ef-1fdf65ed730c"
      },
      "execution_count": 15,
      "outputs": [
        {
          "output_type": "execute_result",
          "data": {
            "text/plain": [
              "100   NaN\n",
              "101   NaN\n",
              "200   NaN\n",
              "202   NaN\n",
              "dtype: float64"
            ]
          },
          "metadata": {},
          "execution_count": 15
        }
      ]
    },
    {
      "cell_type": "code",
      "source": [
        "squares[10]=100"
      ],
      "metadata": {
        "id": "t5Tj31s5kQix"
      },
      "execution_count": 19,
      "outputs": []
    },
    {
      "cell_type": "code",
      "source": [
        "pd.Series(squares,index=[10,101,200,202])"
      ],
      "metadata": {
        "colab": {
          "base_uri": "https://localhost:8080/"
        },
        "id": "k6BcB3mjkeNe",
        "outputId": "4eead778-c085-440f-cd24-c3a8f93a3ecb"
      },
      "execution_count": 20,
      "outputs": [
        {
          "output_type": "execute_result",
          "data": {
            "text/plain": [
              "10     100.0\n",
              "101      NaN\n",
              "200      NaN\n",
              "202      NaN\n",
              "dtype: float64"
            ]
          },
          "metadata": {},
          "execution_count": 20
        }
      ]
    },
    {
      "cell_type": "code",
      "source": [
        "squares"
      ],
      "metadata": {
        "colab": {
          "base_uri": "https://localhost:8080/"
        },
        "id": "jqGqLvYQkhg9",
        "outputId": "ac422b23-e27b-4b71-ae38-e68eb70918e7"
      },
      "execution_count": 21,
      "outputs": [
        {
          "output_type": "execute_result",
          "data": {
            "text/plain": [
              "{1: 1, 2: 4, 3: 9, 4: 16, 10: 100}"
            ]
          },
          "metadata": {},
          "execution_count": 21
        }
      ]
    },
    {
      "cell_type": "markdown",
      "source": [
        "# **Scaler**"
      ],
      "metadata": {
        "id": "XYAdL76YkzYE"
      }
    },
    {
      "cell_type": "code",
      "source": [
        "pd.Series(125,index=[0,1,2,3])"
      ],
      "metadata": {
        "colab": {
          "base_uri": "https://localhost:8080/"
        },
        "id": "ETttN4u3k2ee",
        "outputId": "31cbc191-528c-47a7-f7aa-470e2691cd98"
      },
      "execution_count": 22,
      "outputs": [
        {
          "output_type": "execute_result",
          "data": {
            "text/plain": [
              "0    125\n",
              "1    125\n",
              "2    125\n",
              "3    125\n",
              "dtype: int64"
            ]
          },
          "metadata": {},
          "execution_count": 22
        }
      ]
    },
    {
      "cell_type": "markdown",
      "source": [
        "# **Retrieving Data**"
      ],
      "metadata": {
        "id": "jniSvPiilJp2"
      }
    },
    {
      "cell_type": "code",
      "source": [
        "series"
      ],
      "metadata": {
        "colab": {
          "base_uri": "https://localhost:8080/"
        },
        "id": "N53pEiSclRjn",
        "outputId": "88878576-a2b3-4fa7-d58b-7e4c2833d5cf"
      },
      "execution_count": 24,
      "outputs": [
        {
          "output_type": "execute_result",
          "data": {
            "text/plain": [
              "200    a\n",
              "201    b\n",
              "202    c\n",
              "203    d\n",
              "Name: Alphabates, dtype: object"
            ]
          },
          "metadata": {},
          "execution_count": 24
        }
      ]
    },
    {
      "cell_type": "code",
      "source": [
        "series[200]"
      ],
      "metadata": {
        "colab": {
          "base_uri": "https://localhost:8080/",
          "height": 35
        },
        "id": "GDPjxasdmNRe",
        "outputId": "6741736b-514b-43ed-9746-d833ed9f1b29"
      },
      "execution_count": 25,
      "outputs": [
        {
          "output_type": "execute_result",
          "data": {
            "application/vnd.google.colaboratory.intrinsic+json": {
              "type": "string"
            },
            "text/plain": [
              "'a'"
            ]
          },
          "metadata": {},
          "execution_count": 25
        }
      ]
    },
    {
      "cell_type": "code",
      "source": [
        "series[202]"
      ],
      "metadata": {
        "colab": {
          "base_uri": "https://localhost:8080/",
          "height": 35
        },
        "id": "Ng_j8GgRmSU-",
        "outputId": "62682ddb-094c-4562-a89d-e20e8dbe052c"
      },
      "execution_count": 26,
      "outputs": [
        {
          "output_type": "execute_result",
          "data": {
            "application/vnd.google.colaboratory.intrinsic+json": {
              "type": "string"
            },
            "text/plain": [
              "'c'"
            ]
          },
          "metadata": {},
          "execution_count": 26
        }
      ]
    }
  ]
}